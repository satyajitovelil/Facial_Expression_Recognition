{
 "cells": [
  {
   "cell_type": "markdown",
   "metadata": {},
   "source": [
    "### Creating a Directory Dataset using a Data from CSV file"
   ]
  },
  {
   "cell_type": "code",
   "execution_count": 1,
   "metadata": {},
   "outputs": [],
   "source": [
    "import pandas as pd\n",
    "import os"
   ]
  },
  {
   "cell_type": "code",
   "execution_count": 2,
   "metadata": {},
   "outputs": [],
   "source": [
    "import cv2"
   ]
  },
  {
   "cell_type": "markdown",
   "metadata": {},
   "source": [
    "#### Creating the Directory Structure"
   ]
  },
  {
   "cell_type": "code",
   "execution_count": 3,
   "metadata": {},
   "outputs": [],
   "source": [
    "parent_directory = r'.\\face-expression-recognition-dataset\\fer_directory'"
   ]
  },
  {
   "cell_type": "code",
   "execution_count": 4,
   "metadata": {},
   "outputs": [],
   "source": [
    "emo_code_dict = {0:\"Angry\", 1:'Disgust', 2:\"Fear\", 3:\"Happy\", 4:\"Sad\", 5:\"Surprise\", 6:\"Neutral\"}"
   ]
  },
  {
   "cell_type": "code",
   "execution_count": 95,
   "metadata": {},
   "outputs": [],
   "source": [
    "os.mkdir(os.path.join(parent_directory, 'Training'))\n",
    "\n",
    "os.mkdir(os.path.join(parent_directory, 'Validation'))\n",
    "\n",
    "os.mkdir(os.path.join(parent_directory, 'Test'))"
   ]
  },
  {
   "cell_type": "markdown",
   "metadata": {},
   "source": [
    "#### Loading the DataFrame"
   ]
  },
  {
   "cell_type": "code",
   "execution_count": 8,
   "metadata": {},
   "outputs": [],
   "source": [
    "csv_path = r'..\\face-expression-recognition-dataset\\fer2013\\fer2013.csv'\n",
    "df = pd.read_csv(csv_path)"
   ]
  },
  {
   "cell_type": "markdown",
   "metadata": {},
   "source": [
    "#### Creating a folder for each target class"
   ]
  },
  {
   "cell_type": "code",
   "execution_count": 97,
   "metadata": {},
   "outputs": [],
   "source": [
    "for emo in df.emotion.unique():\n",
    "    os.mkdir(os.path.join(parent_directory+'\\Training', emo_code_dict[emo])) \n",
    "    os.mkdir(os.path.join(parent_directory+'\\Validation', emo_code_dict[emo]))     \n",
    "    os.mkdir(os.path.join(parent_directory+'\\Test', emo_code_dict[emo]))     "
   ]
  },
  {
   "cell_type": "markdown",
   "metadata": {},
   "source": [
    "#### Parsing the DataFrame and saving the images in their respective folders"
   ]
  },
  {
   "cell_type": "code",
   "execution_count": 191,
   "metadata": {},
   "outputs": [],
   "source": [
    "for row in df.itertuples():\n",
    "    if row.Usage == 'Training':\n",
    "        image_folder = parent_directory + '\\Training\\\\' + emo_code_dict[row.emotion] + '\\\\'\n",
    "        cv2.imwrite(image_folder + str(row.Index) +'.jpg', row.pixels.reshape((48,48,1)))\n",
    "    \n",
    "    elif row.Usage == 'PublicTest':\n",
    "        image_folder = parent_directory + '\\Validation\\\\' + emo_code_dict[row.emotion] + '\\\\'\n",
    "        cv2.imwrite(image_folder + str(row.Index) +'.jpg', row.pixels.reshape((48,48,1)))\n",
    "        \n",
    "    elif row.Usage == 'PrivateTest':\n",
    "        image_folder = parent_directory + '\\Test\\\\'+ emo_code_dict[row.emotion] + '\\\\'\n",
    "        cv2.imwrite(image_folder + str(row.Index) +'.jpg', row.pixels.reshape((48,48,1)))\n"
   ]
  },
  {
   "cell_type": "markdown",
   "metadata": {},
   "source": [
    "#### Loading a saved Image to test the result of above Process"
   ]
  },
  {
   "cell_type": "code",
   "execution_count": 12,
   "metadata": {},
   "outputs": [],
   "source": [
    "import matplotlib.pyplot as plt"
   ]
  },
  {
   "cell_type": "code",
   "execution_count": 13,
   "metadata": {},
   "outputs": [
    {
     "name": "stdout",
     "output_type": "stream",
     "text": [
      "(48, 48, 3)\n"
     ]
    },
    {
     "data": {
      "image/png": "[encoded data removed]",
      "text/plain": [
       "<Figure size 432x288 with 1 Axes>"
      ]
     },
     "metadata": {
      "needs_background": "light"
     },
     "output_type": "display_data"
    }
   ],
   "source": [
    "img_example2 = cv2.imread(r'..\\face-expression-recognition-dataset\\fer_directory\\Training\\Happy\\7.jpg')\n",
    "img_example2\n",
    "print(img_example2.shape)\n",
    "plt.imshow(img_example2);"
   ]
  },
  {
   "cell_type": "code",
   "execution_count": null,
   "metadata": {},
   "outputs": [],
   "source": []
  }
 ],
 "metadata": {
  "kernelspec": {
   "display_name": "Python [conda env:root] *",
   "language": "python",
   "name": "conda-root-py"
  },
  "language_info": {
   "codemirror_mode": {
    "name": "ipython",
    "version": 3
   },
   "file_extension": ".py",
   "mimetype": "text/x-python",
   "name": "python",
   "nbconvert_exporter": "python",
   "pygments_lexer": "ipython3",
   "version": "3.8.3"
  }
 },
 "nbformat": 4,
 "nbformat_minor": 4
}
