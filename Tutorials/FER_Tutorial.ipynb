{
 "cells": [
  {
   "cell_type": "code",
   "execution_count": 1,
   "metadata": {},
   "outputs": [],
   "source": [
    "import numpy as np\n",
    "import pandas as pd\n",
    "import matplotlib.pyplot as plt\n",
    "\n",
    "import os\n",
    "\n",
    "import cv2\n",
    "import tensorflow as tf"
   ]
  },
  {
   "cell_type": "code",
   "execution_count": 2,
   "metadata": {},
   "outputs": [
    {
     "name": "stdout",
     "output_type": "stream",
     "text": [
      "1 Physical GPUs, 1 Logical GPU\n"
     ]
    }
   ],
   "source": [
    "gpus = tf.config.experimental.list_physical_devices('GPU')\n",
    "if gpus:\n",
    "  # Restrict TensorFlow to only use the first GPU\n",
    "  try:\n",
    "    tf.config.experimental.set_visible_devices(gpus[0], 'GPU')\n",
    "    logical_gpus = tf.config.experimental.list_logical_devices('GPU')\n",
    "    print(len(gpus), \"Physical GPUs,\", len(logical_gpus), \"Logical GPU\")\n",
    "  except RuntimeError as e:\n",
    "    # Visible devices must be set before GPUs have been initialized\n",
    "    print(e)"
   ]
  },
  {
   "cell_type": "code",
   "execution_count": 3,
   "metadata": {},
   "outputs": [],
   "source": [
    "# tf.config.list_physical_devices('GPU')"
   ]
  },
  {
   "cell_type": "code",
   "execution_count": 4,
   "metadata": {},
   "outputs": [],
   "source": [
    "from tensorflow.keras.preprocessing import image\n",
    "from tensorflow.keras.preprocessing.image import ImageDataGenerator, load_img, img_to_array, array_to_img\n",
    "from tensorflow.keras import utils"
   ]
  },
  {
   "cell_type": "markdown",
   "metadata": {},
   "source": [
    "### Getting Your data In"
   ]
  },
  {
   "cell_type": "code",
   "execution_count": 5,
   "metadata": {
    "tags": []
   },
   "outputs": [
    {
     "name": "stdout",
     "output_type": "stream",
     "text": [
      "(48, 48, 3)\n"
     ]
    },
    {
     "data": {
      "image/png": "[encoded data removed]",
      "text/plain": [
       "<Figure size 432x288 with 1 Axes>"
      ]
     },
     "metadata": {
      "needs_background": "light"
     },
     "output_type": "display_data"
    }
   ],
   "source": [
    "img_example = cv2.imread(r'..\\face-expression-recognition-dataset\\images\\train\\happy\\7.jpg')\n",
    "img_example\n",
    "print(img_example.shape)\n",
    "plt.imshow(img_example);"
   ]
  },
  {
   "cell_type": "code",
   "execution_count": 6,
   "metadata": {},
   "outputs": [],
   "source": [
    "train_images_path = r'..\\face-expression-recognition-dataset\\fer_directory\\Training'\n",
    "valid_images_path = r'..\\face-expression-recognition-dataset\\fer_directory\\Validation'"
   ]
  },
  {
   "cell_type": "code",
   "execution_count": 7,
   "metadata": {},
   "outputs": [],
   "source": [
    "csv_path = r'..\\face-expression-recognition-dataset\\fer2013\\fer2013.csv'"
   ]
  },
  {
   "cell_type": "markdown",
   "metadata": {},
   "source": [
    "### Via Keras's ImageDataGeneratorClass"
   ]
  },
  {
   "cell_type": "code",
   "execution_count": 8,
   "metadata": {},
   "outputs": [],
   "source": [
    "train_gen = ImageDataGenerator(rescale=1./255)\n",
    "valid_gen = ImageDataGenerator(rescale=1./255)"
   ]
  },
  {
   "cell_type": "code",
   "execution_count": 9,
   "metadata": {},
   "outputs": [],
   "source": [
    "aug_gen = ImageDataGenerator(rescale=1./255, zoom_range=0.2, horizontal_flip=True)"
   ]
  },
  {
   "cell_type": "code",
   "execution_count": 10,
   "metadata": {},
   "outputs": [],
   "source": [
    "# zoom_range=0.2, horizontal_flip=True, width_shift_range=0.2, height_shift_range=0.2"
   ]
  },
  {
   "cell_type": "markdown",
   "metadata": {},
   "source": [
    "#### ImageDataGenerator Method 1:\n",
    "`Flow From Directory`"
   ]
  },
  {
   "cell_type": "code",
   "execution_count": 11,
   "metadata": {
    "tags": []
   },
   "outputs": [
    {
     "name": "stdout",
     "output_type": "stream",
     "text": [
      "Found 28709 images belonging to 7 classes.\n"
     ]
    }
   ],
   "source": [
    "train_flow = train_gen.flow_from_directory(train_images_path, color_mode='grayscale', target_size=(48, 48))"
   ]
  },
  {
   "cell_type": "code",
   "execution_count": 12,
   "metadata": {
    "tags": []
   },
   "outputs": [
    {
     "name": "stdout",
     "output_type": "stream",
     "text": [
      "Found 3589 images belonging to 7 classes.\n"
     ]
    }
   ],
   "source": [
    "valid_flow = valid_gen.flow_from_directory(valid_images_path, color_mode='grayscale', target_size=(48, 48))"
   ]
  },
  {
   "cell_type": "markdown",
   "metadata": {},
   "source": [
    "#### ImageDataGenerator Method 2:\n",
    "`Flow (From Array)`"
   ]
  },
  {
   "cell_type": "code",
   "execution_count": 13,
   "metadata": {},
   "outputs": [],
   "source": [
    "df = pd.read_csv(csv_path)"
   ]
  },
  {
   "cell_type": "code",
   "execution_count": 14,
   "metadata": {},
   "outputs": [
    {
     "data": {
      "text/plain": [
       "Index(['emotion', 'pixels', 'Usage'], dtype='object')"
      ]
     },
     "execution_count": 14,
     "metadata": {},
     "output_type": "execute_result"
    }
   ],
   "source": [
    "df.columns"
   ]
  },
  {
   "cell_type": "code",
   "execution_count": 15,
   "metadata": {},
   "outputs": [
    {
     "data": {
      "text/plain": [
       "array(['Training', 'PublicTest', 'PrivateTest'], dtype=object)"
      ]
     },
     "execution_count": 15,
     "metadata": {},
     "output_type": "execute_result"
    }
   ],
   "source": [
    "df.Usage.unique()"
   ]
  },
  {
   "cell_type": "code",
   "execution_count": 16,
   "metadata": {},
   "outputs": [],
   "source": [
    "df['pixels'] = df.pixels.apply(lambda x: np.fromstring(x, dtype=int, sep=' ').reshape((48,48,1)))"
   ]
  },
  {
   "cell_type": "code",
   "execution_count": 17,
   "metadata": {},
   "outputs": [
    {
     "name": "stdout",
     "output_type": "stream",
     "text": [
      "3\n"
     ]
    },
    {
     "data": {
      "image/png": "[encoded data removed]",
      "text/plain": [
       "<PIL.Image.Image image mode=L size=48x48 at 0x1B89A897880>"
      ]
     },
     "execution_count": 17,
     "metadata": {},
     "output_type": "execute_result"
    }
   ],
   "source": [
    "i = 7\n",
    "print(df['emotion'][i])\n",
    "array_to_img(df['pixels'][i].reshape((48,48,1)))"
   ]
  },
  {
   "cell_type": "code",
   "execution_count": 18,
   "metadata": {},
   "outputs": [],
   "source": [
    "def convert_to_array(s):\n",
    "    arr = np.array(list(s)).reshape((-1,48,48,1))\n",
    "    return arr"
   ]
  },
  {
   "cell_type": "code",
   "execution_count": 19,
   "metadata": {},
   "outputs": [],
   "source": [
    "cw = df[df.Usage=='Training'].emotion.value_counts()\n",
    "class_weight_dict = dict(cw/sum(cw))"
   ]
  },
  {
   "cell_type": "code",
   "execution_count": 20,
   "metadata": {},
   "outputs": [],
   "source": [
    "def train_val_test_split(data):\n",
    "    train = data[data.Usage=='Training']\n",
    "    val = data[data.Usage=='PublicTest']\n",
    "    test = data[data.Usage=='PrivateTest']\n",
    "    x_train, y_train = train['pixels'], train['emotion']\n",
    "    x_val, y_val = val['pixels'], val['emotion']\n",
    "    x_test, y_test = test['pixels'], test['emotion']\n",
    "    return convert_to_array(x_train), convert_to_array(x_val), convert_to_array(x_test), utils.to_categorical(y_train, num_classes=7),  utils.to_categorical(y_val, num_classes=7),  utils.to_categorical(y_test, num_classes=7)"
   ]
  },
  {
   "cell_type": "code",
   "execution_count": 21,
   "metadata": {},
   "outputs": [],
   "source": [
    "x_train, x_val, x_text, y_train, y_val, y_test = train_val_test_split(df)"
   ]
  },
  {
   "cell_type": "code",
   "execution_count": 22,
   "metadata": {},
   "outputs": [],
   "source": [
    "aug_gen.fit(x_train)"
   ]
  },
  {
   "cell_type": "code",
   "execution_count": 23,
   "metadata": {},
   "outputs": [],
   "source": [
    "Aug_flow = aug_gen.flow(x_train, y_train, batch_size=64)"
   ]
  },
  {
   "cell_type": "code",
   "execution_count": 24,
   "metadata": {},
   "outputs": [],
   "source": [
    "val_flow = valid_gen.flow(x_val, y_val, batch_size=64)"
   ]
  },
  {
   "cell_type": "markdown",
   "metadata": {},
   "source": [
    "### Via OpenCV2 & OS module"
   ]
  },
  {
   "cell_type": "code",
   "execution_count": 25,
   "metadata": {},
   "outputs": [],
   "source": [
    "train_x, valid_x, train_y, valid_y = [], [], [], []"
   ]
  },
  {
   "cell_type": "code",
   "execution_count": 26,
   "metadata": {},
   "outputs": [],
   "source": [
    "classes = [category for category in os.listdir(train_images_path)]"
   ]
  },
  {
   "cell_type": "code",
   "execution_count": 27,
   "metadata": {},
   "outputs": [],
   "source": [
    "for category in os.listdir(train_images_path):\n",
    "    cat_path = os.path.join(train_images_path, category)\n",
    "    for image in os.listdir(cat_path):\n",
    "        img_path = os.path.join(cat_path, image)\n",
    "        img = cv2.imread(img_path, cv2.IMREAD_GRAYSCALE)\n",
    "        img_array = cv2.resize(img, (48,48))\n",
    "        train_x.append(img_array)\n",
    "        train_y.append(classes.index(category))"
   ]
  },
  {
   "cell_type": "code",
   "execution_count": 28,
   "metadata": {},
   "outputs": [],
   "source": [
    "train_y = utils.to_categorical(np.array(train_y), num_classes=7)"
   ]
  },
  {
   "cell_type": "code",
   "execution_count": 29,
   "metadata": {},
   "outputs": [],
   "source": [
    "train_x = np.array(train_x).reshape(-1, 48, 48, 1)"
   ]
  },
  {
   "cell_type": "code",
   "execution_count": 30,
   "metadata": {},
   "outputs": [
    {
     "data": {
      "text/plain": [
       "(28709, 48, 48, 1)"
      ]
     },
     "execution_count": 30,
     "metadata": {},
     "output_type": "execute_result"
    }
   ],
   "source": [
    "train_x.shape"
   ]
  },
  {
   "cell_type": "code",
   "execution_count": 31,
   "metadata": {},
   "outputs": [
    {
     "data": {
      "text/plain": [
       "(28709, 7)"
      ]
     },
     "execution_count": 31,
     "metadata": {},
     "output_type": "execute_result"
    }
   ],
   "source": [
    "train_y.shape"
   ]
  },
  {
   "cell_type": "code",
   "execution_count": 32,
   "metadata": {},
   "outputs": [],
   "source": [
    "for category in os.listdir(valid_images_path):\n",
    "    cat_path = os.path.join(valid_images_path, category)\n",
    "    for image in os.listdir(cat_path):\n",
    "        img_path = os.path.join(cat_path, image)\n",
    "        img = cv2.imread(img_path, cv2.IMREAD_GRAYSCALE)\n",
    "        img_array = cv2.resize(img, (48,48))\n",
    "        valid_x.append(img_array)\n",
    "        valid_y.append(classes.index(category))"
   ]
  },
  {
   "cell_type": "code",
   "execution_count": 33,
   "metadata": {},
   "outputs": [],
   "source": [
    "valid_y = utils.to_categorical(np.array(valid_y), num_classes=7)"
   ]
  },
  {
   "cell_type": "code",
   "execution_count": 34,
   "metadata": {},
   "outputs": [],
   "source": [
    "valid_x = np.array(valid_x).reshape(-1, 48, 48, 1)"
   ]
  },
  {
   "cell_type": "markdown",
   "metadata": {},
   "source": [
    "### Models"
   ]
  },
  {
   "cell_type": "code",
   "execution_count": 35,
   "metadata": {},
   "outputs": [],
   "source": [
    "from tensorflow.keras.models import Sequential\n",
    "from tensorflow.keras.layers import Dense, Dropout, Activation, Flatten\n",
    "from tensorflow.keras.layers import Conv2D, MaxPooling2D, BatchNormalization,AveragePooling2D\n",
    "from tensorflow.keras.losses import categorical_crossentropy\n",
    "from tensorflow.keras.optimizers import Adam\n",
    "from tensorflow.keras.regularizers import l2"
   ]
  },
  {
   "cell_type": "code",
   "execution_count": 36,
   "metadata": {},
   "outputs": [],
   "source": [
    "from tensorflow.keras.callbacks import ReduceLROnPlateau, EarlyStopping"
   ]
  },
  {
   "cell_type": "code",
   "execution_count": 37,
   "metadata": {},
   "outputs": [],
   "source": [
    "BATCH_SIZE = 64\n",
    "EPOCHS = 100"
   ]
  },
  {
   "cell_type": "markdown",
   "metadata": {},
   "source": [
    "#### `Convulational NN Dropout`\n",
    "\n",
    "Neural Network architecture implemented by [EmoPy](https://github.com/thoughtworksarts/EmoPy) a machine learning toolkit for emotional expression and described as [ConvulationalNNDropout](https://github.com/thoughtworksarts/EmoPy#convolutionalnndropout)"
   ]
  },
  {
   "cell_type": "code",
   "execution_count": 41,
   "metadata": {},
   "outputs": [],
   "source": [
    "emo_model = Sequential()\n",
    "\n",
    "emo_model.add(Conv2D(input_shape=train_flow.image_shape, filters=64, kernel_size=(3,3), activation='relu', data_format='channels_last', kernel_regularizer=l2(0.01)))\n",
    "emo_model.add(Conv2D(filters=64, kernel_size=(4,4), activation='relu', data_format='channels_last', padding='same'))\n",
    "emo_model.add(BatchNormalization())\n",
    "emo_model.add(MaxPooling2D(pool_size=(2,2)))\n",
    "emo_model.add(Dropout(0.5))\n",
    "\n",
    "emo_model.add(Conv2D(filters=128, kernel_size=(4,4), activation='relu', data_format='channels_last', padding='same'))\n",
    "emo_model.add(BatchNormalization())\n",
    "emo_model.add(Conv2D(filters=128, kernel_size=(4,4), activation='relu', data_format='channels_last', padding='same'))\n",
    "emo_model.add(BatchNormalization())\n",
    "emo_model.add(MaxPooling2D(pool_size=(2,2)))\n",
    "emo_model.add(Dropout(0.5))\n",
    "\n",
    "emo_model.add(Conv2D(filters=256, kernel_size=(4,4), activation='relu', data_format='channels_last', padding='same'))\n",
    "emo_model.add(BatchNormalization())\n",
    "emo_model.add(Conv2D(filters=256, kernel_size=(4,4), activation='relu', data_format='channels_last', padding='same'))\n",
    "emo_model.add(BatchNormalization())\n",
    "emo_model.add(MaxPooling2D(pool_size=(2,2)))\n",
    "emo_model.add(Dropout(0.5))\n",
    "\n",
    "emo_model.add(Flatten())\n",
    "\n",
    "emo_model.add(Dense(train_flow.num_classes, activation=\"softmax\"))\n"
   ]
  },
  {
   "cell_type": "code",
   "execution_count": 42,
   "metadata": {},
   "outputs": [],
   "source": [
    "emo_model.compile(optimizer=Adam(lr=0.001, beta_1=0.9, beta_2=0.999, epsilon=1e-7), loss=categorical_crossentropy, metrics=['accuracy'])"
   ]
  },
  {
   "cell_type": "code",
   "execution_count": 43,
   "metadata": {},
   "outputs": [
    {
     "name": "stdout",
     "output_type": "stream",
     "text": [
      "Epoch 1/30\n",
      "897/897 [==============================] - 27s 31ms/step - loss: 2.9930 - accuracy: 0.2454 - val_loss: 1.9304 - val_accuracy: 0.3337\n",
      "Epoch 2/30\n",
      "897/897 [==============================] - 29s 32ms/step - loss: 1.7088 - accuracy: 0.3691 - val_loss: 1.6297 - val_accuracy: 0.3873\n",
      "Epoch 3/30\n",
      "897/897 [==============================] - 28s 31ms/step - loss: 1.4439 - accuracy: 0.4488 - val_loss: 1.3561 - val_accuracy: 0.4880 - loss: 1.444\n",
      "Epoch 4/30\n",
      "897/897 [==============================] - 30s 33ms/step - loss: 1.3177 - accuracy: 0.5016 - val_loss: 1.3514 - val_accuracy: 0.4760TA: 0s - loss: 1.3179 - accuracy: \n",
      "Epoch 5/30\n",
      "897/897 [==============================] - 29s 33ms/step - loss: 1.2387 - accuracy: 0.5338 - val_loss: 1.3091 - val_accuracy: 0.5089oss: 1.2377 - accu - ETA - ETA: 3s - ETA: 1s - loss: 1.2374 - accu - ETA: 0s - loss: 1.2382  - ETA: 0s - loss: 1.2381 - ac\n",
      "Epoch 6/30\n",
      "897/897 [==============================] - 29s 33ms/step - loss: 1.1729 - accuracy: 0.5620 - val_loss: 1.1806 - val_accuracy: 0.5575\n",
      "Epoch 7/30\n",
      "897/897 [==============================] - 29s 32ms/step - loss: 1.1277 - accuracy: 0.5758 - val_loss: 1.1323 - val_accuracy: 0.5812\n",
      "Epoch 8/30\n",
      "897/897 [==============================] - 30s 33ms/step - loss: 1.0790 - accuracy: 0.5972 - val_loss: 1.0924 - val_accuracy: 0.5915\n",
      "Epoch 9/30\n",
      "897/897 [==============================] - 30s 33ms/step - loss: 1.0444 - accuracy: 0.6113 - val_loss: 1.1220 - val_accuracy: 0.5806\n",
      "Epoch 10/30\n",
      "897/897 [==============================] - 29s 33ms/step - loss: 0.9999 - accuracy: 0.6280 - val_loss: 1.0713 - val_accuracy: 0.5963\n",
      "Epoch 11/30\n",
      "897/897 [==============================] - 30s 33ms/step - loss: 0.9650 - accuracy: 0.6408 - val_loss: 1.0883 - val_accuracy: 0.5943\n",
      "Epoch 12/30\n",
      "897/897 [==============================] - 31s 35ms/step - loss: 0.9276 - accuracy: 0.6592 - val_loss: 1.1213 - val_accuracy: 0.5946\n",
      "Epoch 13/30\n",
      "897/897 [==============================] - 30s 33ms/step - loss: 0.8848 - accuracy: 0.6758 - val_loss: 1.0949 - val_accuracy: 0.5977\n"
     ]
    },
    {
     "data": {
      "text/plain": [
       "<tensorflow.python.keras.callbacks.History at 0x1b89a575f40>"
      ]
     },
     "execution_count": 43,
     "metadata": {},
     "output_type": "execute_result"
    }
   ],
   "source": [
    "emo_model.fit(train_flow, \n",
    "              epochs = 30, \n",
    "              steps_per_epoch = train_flow.n//train_flow.batch_size, \n",
    "              validation_data = valid_flow, \n",
    "              validation_steps = valid_flow.n//valid_flow.batch_size,\n",
    "              callbacks=[ReduceLROnPlateau(), EarlyStopping(patience=3)],\n",
    "              shuffle=True,\n",
    "              verbose=1)"
   ]
  },
  {
   "cell_type": "code",
   "execution_count": 45,
   "metadata": {},
   "outputs": [],
   "source": [
    "emo_model_json = emo_model.to_json()\n",
    "with open(r\"..\\Saved Models\\fer_emo.json\", \"w\") as json_file:\n",
    "    json_file.write(emo_model_json)\n",
    "emo_model.save_weights(r\"..\\Saved Models\\fer_emo.h5\")"
   ]
  },
  {
   "attachments": {
    "image.png": {
     "image/png": "[encoded data removed]"
    }
   },
   "cell_type": "markdown",
   "metadata": {},
   "source": [
    "#### `Custom VGG13 Network`\n",
    "\n",
    "Neural Network architecture as described in the paper [Training Deep Networks for Facial Expression Recognition with Crowd-Sourced Label Distribution](https://arxiv.org/abs/1608.01041) (Barsoum et al.)  :\n",
    "![image.png](attachment:image.png)"
   ]
  },
  {
   "cell_type": "code",
   "execution_count": 46,
   "metadata": {},
   "outputs": [],
   "source": [
    "ms_model = Sequential()\n",
    "\n",
    "ms_model.add(Conv2D(filters=64, kernel_size=(3,3), padding='same', activation='relu', input_shape=train_flow.image_shape, kernel_regularizer=l2(0.01)))\n",
    "ms_model.add(Conv2D(64, kernel_size=(3,3), padding='same', activation='relu'))\n",
    "ms_model.add(BatchNormalization())\n",
    "ms_model.add(MaxPooling2D(pool_size=(2, 2), strides=(2,2)))\n",
    "ms_model.add(Dropout(0.25))\n",
    "\n",
    "ms_model.add(Conv2D(128, kernel_size=(3,3), padding='same', activation='relu'))\n",
    "ms_model.add(BatchNormalization())\n",
    "ms_model.add(Conv2D(128, kernel_size=(3,3), padding='same', activation='relu'))\n",
    "ms_model.add(BatchNormalization())\n",
    "ms_model.add(MaxPooling2D(pool_size=(2, 2), strides=(2,2)))\n",
    "ms_model.add(Dropout(0.25))\n",
    "\n",
    "ms_model.add(Conv2D(256, kernel_size=(3,3), padding='same', activation='relu'))\n",
    "ms_model.add(BatchNormalization())\n",
    "ms_model.add(Conv2D(256, kernel_size=(3,3), padding='same', activation='relu'))\n",
    "ms_model.add(BatchNormalization())\n",
    "ms_model.add(Conv2D(256, kernel_size=(3,3), padding='same', activation='relu'))\n",
    "ms_model.add(BatchNormalization())\n",
    "ms_model.add(MaxPooling2D(pool_size=(2, 2), strides=(2,2)))\n",
    "ms_model.add(Dropout(0.25))\n",
    "\n",
    "ms_model.add(Conv2D(256, kernel_size=(3,3), padding='same', activation='relu'))\n",
    "ms_model.add(BatchNormalization())\n",
    "ms_model.add(Conv2D(256, kernel_size=(3,3), padding='same', activation='relu'))\n",
    "ms_model.add(BatchNormalization())\n",
    "ms_model.add(Conv2D(256, kernel_size=(3,3), padding='same', activation='relu'))\n",
    "ms_model.add(BatchNormalization())\n",
    "ms_model.add(MaxPooling2D(pool_size=(2, 2), strides=(2,2)))\n",
    "ms_model.add(Dropout(0.25))\n",
    "\n",
    "ms_model.add(Flatten())\n",
    "\n",
    "ms_model.add(Dense(1024, activation='relu'))\n",
    "# ms_model.add(Activation('relu'))\n",
    "ms_model.add(Dropout(0.5))\n",
    "\n",
    "ms_model.add(Dense(1024, activation='relu'))\n",
    "# ms_model.add(Activation('relu'))\n",
    "ms_model.add(Dropout(0.5))\n",
    "\n",
    "# ms_model.add(Flatten())\n",
    "\n",
    "\n",
    "ms_model.add(Dense(train_flow.num_classes, activation='softmax'))"
   ]
  },
  {
   "cell_type": "code",
   "execution_count": 47,
   "metadata": {},
   "outputs": [],
   "source": [
    "ms_model.compile(loss='categorical_crossentropy', optimizer=Adam(lr=0.001, beta_1=0.9, beta_2=0.999, epsilon=1e-7), metrics=['accuracy'])"
   ]
  },
  {
   "cell_type": "code",
   "execution_count": 48,
   "metadata": {},
   "outputs": [
    {
     "name": "stdout",
     "output_type": "stream",
     "text": [
      "Epoch 1/100\n",
      "448/448 [==============================] - 21s 48ms/step - loss: 2.0745 - accuracy: 0.2235 - val_loss: 1.8224 - val_accuracy: 0.2572 2.1211  - ETA: 0s - loss: 2.0822 \n",
      "Epoch 2/100\n",
      "448/448 [==============================] - 21s 47ms/step - loss: 1.7921 - accuracy: 0.2736 - val_loss: 1.8441 - val_accuracy: 0.2282s - los - ETA: 15s - loss: 1.8263 - accuracy - ETA: 15s - loss: 1.8234 - accuracy: - ETA: 14s - l - ETA: 7s - loss: 1.8060 - ac - ETA: 6s - loss: 1.8048 - accuracy: 0.26 - ETA:  - ETA: 4s - loss: 1.802\n",
      "Epoch 3/100\n",
      "448/448 [==============================] - 21s 47ms/step - loss: 1.7103 - accuracy: 0.3229 - val_loss: 2.6230 - val_accuracy: 0.1282loss: 1.726 - ETA: 12s - loss: 1.7327 - a - ETA: 6s - loss: - ETA: 3s\n",
      "Epoch 4/100\n",
      "448/448 [==============================] - 22s 49ms/step - loss: 1.5673 - accuracy: 0.3955 - val_loss: 1.4484 - val_accuracy: 0.4327\n",
      "Epoch 5/100\n",
      "448/448 [==============================] - 22s 50ms/step - loss: 1.4052 - accuracy: 0.4714 - val_loss: 1.4439 - val_accuracy: 0.4480\n",
      "Epoch 6/100\n",
      "448/448 [==============================] - 23s 51ms/step - loss: 1.3450 - accuracy: 0.4997 - val_loss: 1.2635 - val_accuracy: 0.5238\n",
      "Epoch 7/100\n",
      "448/448 [==============================] - 22s 50ms/step - loss: 1.3037 - accuracy: 0.5176 - val_loss: 1.3019 - val_accuracy: 0.5235\n",
      "Epoch 8/100\n",
      "448/448 [==============================] - 23s 50ms/step - loss: 1.2410 - accuracy: 0.5417 - val_loss: 1.2815 - val_accuracy: 0.5258\n",
      "Epoch 9/100\n",
      "448/448 [==============================] - 22s 50ms/step - loss: 1.2287 - accuracy: 0.5484 - val_loss: 1.3051 - val_accuracy: 0.5196\n"
     ]
    },
    {
     "data": {
      "text/plain": [
       "<tensorflow.python.keras.callbacks.History at 0x1ba7e383430>"
      ]
     },
     "execution_count": 48,
     "metadata": {},
     "output_type": "execute_result"
    }
   ],
   "source": [
    "ms_model.fit(x_train, y_train, \n",
    "              epochs=EPOCHS, \n",
    "#               batch_size=BATCH_SIZE,\n",
    "              steps_per_epoch=len(x_train)//BATCH_SIZE,\n",
    "              validation_data = (x_val, y_val),\n",
    "              validation_steps = len(x_val)//BATCH_SIZE,\n",
    "              callbacks=[ReduceLROnPlateau(), EarlyStopping(patience=3)],\n",
    "              shuffle=True)"
   ]
  },
  {
   "cell_type": "code",
   "execution_count": 49,
   "metadata": {},
   "outputs": [],
   "source": [
    "ms_model_json = ms_model.to_json()\n",
    "with open(r\"..\\Saved Models\\fer_ms.json\", \"w\") as json_file:\n",
    "    json_file.write(ms_model_json)\n",
    "ms_model.save_weights(r\"..\\Saved Models\\fer_ms.h5\")"
   ]
  }
 ],
 "metadata": {
  "kernelspec": {
   "display_name": "Python [conda env:root] *",
   "language": "python",
   "name": "conda-root-py"
  },
  "language_info": {
   "codemirror_mode": {
    "name": "ipython",
    "version": 3
   },
   "file_extension": ".py",
   "mimetype": "text/x-python",
   "name": "python",
   "nbconvert_exporter": "python",
   "pygments_lexer": "ipython3",
   "version": "3.8.3"
  }
 },
 "nbformat": 4,
 "nbformat_minor": 2
}
