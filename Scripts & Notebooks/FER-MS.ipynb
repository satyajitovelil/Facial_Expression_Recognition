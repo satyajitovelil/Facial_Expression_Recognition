{
 "cells": [
  {
   "cell_type": "code",
   "execution_count": 1,
   "metadata": {},
   "outputs": [],
   "source": [
    "import numpy as np\n",
    "import pandas as pd\n",
    "import matplotlib.pyplot as plt\n",
    "\n",
    "import os\n",
    "\n",
    "import cv2\n",
    "import tensorflow as tf"
   ]
  },
  {
   "cell_type": "code",
   "execution_count": 2,
   "metadata": {},
   "outputs": [
    {
     "name": "stdout",
     "output_type": "stream",
     "text": [
      "1 Physical GPUs, 1 Logical GPU\n"
     ]
    }
   ],
   "source": [
    "gpus = tf.config.experimental.list_physical_devices('GPU')\n",
    "if gpus:\n",
    "  # Restrict TensorFlow to only use the first GPU\n",
    "  try:\n",
    "    tf.config.experimental.set_visible_devices(gpus[0], 'GPU')\n",
    "    logical_gpus = tf.config.experimental.list_logical_devices('GPU')\n",
    "    print(len(gpus), \"Physical GPUs,\", len(logical_gpus), \"Logical GPU\")\n",
    "  except RuntimeError as e:\n",
    "    # Visible devices must be set before GPUs have been initialized\n",
    "    print(e)"
   ]
  },
  {
   "cell_type": "code",
   "execution_count": 3,
   "metadata": {},
   "outputs": [
    {
     "data": {
      "text/plain": [
       "[PhysicalDevice(name='/physical_device:GPU:0', device_type='GPU')]"
      ]
     },
     "execution_count": 3,
     "metadata": {},
     "output_type": "execute_result"
    }
   ],
   "source": [
    "tf.config.list_physical_devices('GPU')"
   ]
  },
  {
   "cell_type": "code",
   "execution_count": 3,
   "metadata": {},
   "outputs": [],
   "source": [
    "from tensorflow.keras.preprocessing import image\n",
    "from tensorflow.keras.preprocessing.image import ImageDataGenerator, load_img, img_to_array, array_to_img\n",
    "from tensorflow.keras import utils"
   ]
  },
  {
   "cell_type": "markdown",
   "metadata": {},
   "source": [
    "### Getting Your data In"
   ]
  },
  {
   "cell_type": "code",
   "execution_count": 4,
   "metadata": {
    "tags": []
   },
   "outputs": [
    {
     "name": "stdout",
     "output_type": "stream",
     "text": [
      "(48, 48, 3)\n"
     ]
    },
    {
     "data": {
      "image/png": "[encoded data removed]",
      "text/plain": [
       "<Figure size 432x288 with 1 Axes>"
      ]
     },
     "metadata": {
      "needs_background": "light"
     },
     "output_type": "display_data"
    }
   ],
   "source": [
    "img_example = cv2.imread(r'D:\\Satyajit\\Code\\Projects\\Developing\\Facial Expressions Classifier\\face-expression-recognition-dataset\\fer_directory\\Training\\Happy\\7.jpg')\n",
    "img_example\n",
    "print(img_example.shape)\n",
    "plt.imshow(img_example);"
   ]
  },
  {
   "cell_type": "code",
   "execution_count": 5,
   "metadata": {},
   "outputs": [],
   "source": [
    "train_images_path = r'D:\\Satyajit\\Code\\Projects\\Developing\\Facial Expressions Classifier\\face-expression-recognition-dataset\\fer_directory\\Training'\n",
    "valid_images_path = r'D:\\Satyajit\\Code\\Projects\\Developing\\Facial Expressions Classifier\\face-expression-recognition-dataset\\fer_directory\\Validation'"
   ]
  },
  {
   "cell_type": "code",
   "execution_count": 6,
   "metadata": {},
   "outputs": [],
   "source": [
    "csv_path = r'D:\\Satyajit\\Code\\Projects\\Developing\\Facial Expressions Classifier\\face-expression-recognition-dataset\\fer2013\\fer2013.csv'"
   ]
  },
  {
   "cell_type": "markdown",
   "metadata": {},
   "source": [
    "### Via Keras's ImageDataGeneratorClass"
   ]
  },
  {
   "cell_type": "code",
   "execution_count": 7,
   "metadata": {},
   "outputs": [],
   "source": [
    "train_gen = ImageDataGenerator(rescale=1./255)\n",
    "valid_gen = ImageDataGenerator(rescale=1./255)"
   ]
  },
  {
   "cell_type": "code",
   "execution_count": 8,
   "metadata": {},
   "outputs": [],
   "source": [
    "aug_gen = ImageDataGenerator(rescale=1./255, zoom_range=0.2, horizontal_flip=True)"
   ]
  },
  {
   "cell_type": "code",
   "execution_count": 9,
   "metadata": {},
   "outputs": [],
   "source": [
    "# zoom_range=0.2, horizontal_flip=True, width_shift_range=0.2, height_shift_range=0.2"
   ]
  },
  {
   "cell_type": "markdown",
   "metadata": {},
   "source": [
    "#### ImageDataGenerator Method 1:\n",
    "`Flow From Directory`"
   ]
  },
  {
   "cell_type": "code",
   "execution_count": null,
   "metadata": {
    "tags": []
   },
   "outputs": [],
   "source": [
    "train_flow = train_gen.flow_from_directory(train_images_path, color_mode='grayscale', target_size=(48, 48))"
   ]
  },
  {
   "cell_type": "code",
   "execution_count": null,
   "metadata": {
    "tags": []
   },
   "outputs": [],
   "source": [
    "valid_flow = valid_gen.flow_from_directory(valid_images_path, color_mode='grayscale', target_size=(48, 48))"
   ]
  },
  {
   "cell_type": "markdown",
   "metadata": {},
   "source": [
    "#### ImageDataGenerator Method 2:\n",
    "`Flow (From Array)`"
   ]
  },
  {
   "cell_type": "code",
   "execution_count": null,
   "metadata": {},
   "outputs": [],
   "source": [
    "df = pd.read_csv(csv_path)"
   ]
  },
  {
   "cell_type": "code",
   "execution_count": null,
   "metadata": {},
   "outputs": [],
   "source": [
    "df.columns"
   ]
  },
  {
   "cell_type": "code",
   "execution_count": null,
   "metadata": {},
   "outputs": [],
   "source": [
    "df.Usage.unique()"
   ]
  },
  {
   "cell_type": "code",
   "execution_count": null,
   "metadata": {},
   "outputs": [],
   "source": [
    "df['pixels'] = df.pixels.apply(lambda x: np.fromstring(x, dtype=int, sep=' ').reshape((48,48,1)))"
   ]
  },
  {
   "cell_type": "code",
   "execution_count": null,
   "metadata": {},
   "outputs": [],
   "source": [
    "i = 7\n",
    "print(df['emotion'][i])\n",
    "array_to_img(df['pixels'][i].reshape((48,48,1)))"
   ]
  },
  {
   "cell_type": "code",
   "execution_count": null,
   "metadata": {},
   "outputs": [],
   "source": [
    "def convert_to_array(s):\n",
    "    arr = np.array(list(s)).reshape((-1,48,48,1))\n",
    "    return arr"
   ]
  },
  {
   "cell_type": "code",
   "execution_count": null,
   "metadata": {},
   "outputs": [],
   "source": [
    "cw = df[df.Usage=='Training'].emotion.value_counts()\n",
    "class_weight_dict = dict(cw/sum(cw))"
   ]
  },
  {
   "cell_type": "code",
   "execution_count": null,
   "metadata": {},
   "outputs": [],
   "source": [
    "def train_val_test_split(data):\n",
    "    train = data[data.Usage=='Training']\n",
    "    val = data[data.Usage=='PublicTest']\n",
    "    test = data[data.Usage=='PrivateTest']\n",
    "    x_train, y_train = train['pixels'], train['emotion']\n",
    "    x_val, y_val = val['pixels'], val['emotion']\n",
    "    x_test, y_test = test['pixels'], test['emotion']\n",
    "    return convert_to_array(x_train), convert_to_array(x_val), convert_to_array(x_test), utils.to_categorical(y_train, num_classes=7),  utils.to_categorical(y_val, num_classes=7),  utils.to_categorical(y_test, num_classes=7)"
   ]
  },
  {
   "cell_type": "code",
   "execution_count": null,
   "metadata": {},
   "outputs": [],
   "source": [
    "x_train, x_val, x_text, y_train, y_val, y_test = train_val_test_split(df)"
   ]
  },
  {
   "cell_type": "code",
   "execution_count": null,
   "metadata": {},
   "outputs": [],
   "source": [
    "aug_gen.fit(x_train)"
   ]
  },
  {
   "cell_type": "code",
   "execution_count": null,
   "metadata": {},
   "outputs": [],
   "source": [
    "Aug_flow = aug_gen.flow(x_train, y_train, batch_size=64)"
   ]
  },
  {
   "cell_type": "code",
   "execution_count": null,
   "metadata": {},
   "outputs": [],
   "source": [
    "val_flow = valid_gen.flow(x_val, y_val, batch_size=64)"
   ]
  },
  {
   "cell_type": "markdown",
   "metadata": {},
   "source": [
    "### Via OpenCV2 & OS module"
   ]
  },
  {
   "cell_type": "code",
   "execution_count": null,
   "metadata": {},
   "outputs": [],
   "source": [
    "train_x, valid_x, train_y, valid_y = [], [], [], []"
   ]
  },
  {
   "cell_type": "code",
   "execution_count": null,
   "metadata": {},
   "outputs": [],
   "source": [
    "classes = [category for category in os.listdir(train_images_path)]"
   ]
  },
  {
   "cell_type": "code",
   "execution_count": null,
   "metadata": {},
   "outputs": [],
   "source": [
    "for category in os.listdir(train_images_path):\n",
    "    cat_path = os.path.join(train_images_path, category)\n",
    "    for image in os.listdir(cat_path):\n",
    "        img_path = os.path.join(cat_path, image)\n",
    "        img = cv2.imread(img_path, cv2.IMREAD_GRAYSCALE)\n",
    "        img_array = cv2.resize(img, (48,48))\n",
    "        train_x.append(img_array)\n",
    "        train_y.append(classes.index(category))"
   ]
  },
  {
   "cell_type": "code",
   "execution_count": null,
   "metadata": {},
   "outputs": [],
   "source": [
    "train_y = utils.to_categorical(np.array(train_y), num_classes=7)"
   ]
  },
  {
   "cell_type": "code",
   "execution_count": null,
   "metadata": {},
   "outputs": [],
   "source": [
    "train_x = np.array(train_x).reshape(-1, 48, 48, 1)"
   ]
  },
  {
   "cell_type": "code",
   "execution_count": null,
   "metadata": {},
   "outputs": [],
   "source": [
    "train_x.shape"
   ]
  },
  {
   "cell_type": "code",
   "execution_count": null,
   "metadata": {},
   "outputs": [],
   "source": [
    "train_y.shape"
   ]
  },
  {
   "cell_type": "code",
   "execution_count": null,
   "metadata": {},
   "outputs": [],
   "source": [
    "for category in os.listdir(valid_images_path):\n",
    "    cat_path = os.path.join(valid_images_path, category)\n",
    "    for image in os.listdir(cat_path):\n",
    "        img_path = os.path.join(cat_path, image)\n",
    "        img = cv2.imread(img_path, cv2.IMREAD_GRAYSCALE)\n",
    "        img_array = cv2.resize(img, (48,48))\n",
    "        valid_x.append(img_array)\n",
    "        valid_y.append(classes.index(category))"
   ]
  },
  {
   "cell_type": "code",
   "execution_count": null,
   "metadata": {},
   "outputs": [],
   "source": [
    "valid_y = utils.to_categorical(np.array(valid_y), num_classes=7)"
   ]
  },
  {
   "cell_type": "code",
   "execution_count": null,
   "metadata": {},
   "outputs": [],
   "source": [
    "valid_x = np.array(valid_x).reshape(-1, 48, 48, 1)"
   ]
  },
  {
   "cell_type": "markdown",
   "metadata": {},
   "source": [
    "### Models"
   ]
  },
  {
   "cell_type": "code",
   "execution_count": null,
   "metadata": {},
   "outputs": [],
   "source": [
    "from tensorflow.keras.models import Sequential\n",
    "from tensorflow.keras.layers import Dense, Dropout, Activation, Flatten\n",
    "from tensorflow.keras.layers import Conv2D, MaxPooling2D, BatchNormalization,AveragePooling2D\n",
    "from tensorflow.keras.losses import categorical_crossentropy\n",
    "from tensorflow.keras.optimizers import Adam\n",
    "from tensorflow.keras.regularizers import l2"
   ]
  },
  {
   "cell_type": "code",
   "execution_count": null,
   "metadata": {},
   "outputs": [],
   "source": [
    "from tensorflow.keras.callbacks import ReduceLROnPlateau, EarlyStopping"
   ]
  },
  {
   "cell_type": "code",
   "execution_count": null,
   "metadata": {},
   "outputs": [],
   "source": [
    "BATCH_SIZE = 64\n",
    "EPOCHS = 100"
   ]
  },
  {
   "cell_type": "code",
   "execution_count": null,
   "metadata": {},
   "outputs": [],
   "source": [
    "ms_model = Sequential()\n",
    "\n",
    "ms_model.add(Conv2D(filters=64, kernel_size=(3,3), padding='same', activation='relu', input_shape=train_flow.image_shape, kernel_regularizer=l2(0.01)))\n",
    "ms_model.add(Conv2D(64, kernel_size=(3,3), padding='same', activation='relu'))\n",
    "ms_model.add(BatchNormalization())\n",
    "ms_model.add(MaxPooling2D(pool_size=(2, 2), strides=(2,2)))\n",
    "ms_model.add(Dropout(0.25))\n",
    "\n",
    "ms_model.add(Conv2D(128, kernel_size=(3,3), padding='same', activation='relu'))\n",
    "ms_model.add(BatchNormalization())\n",
    "ms_model.add(Conv2D(128, kernel_size=(3,3), padding='same', activation='relu'))\n",
    "ms_model.add(BatchNormalization())\n",
    "ms_model.add(MaxPooling2D(pool_size=(2, 2), strides=(2,2)))\n",
    "ms_model.add(Dropout(0.25))\n",
    "\n",
    "ms_model.add(Conv2D(256, kernel_size=(3,3), padding='same', activation='relu'))\n",
    "ms_model.add(BatchNormalization())\n",
    "ms_model.add(Conv2D(256, kernel_size=(3,3), padding='same', activation='relu'))\n",
    "ms_model.add(BatchNormalization())\n",
    "ms_model.add(Conv2D(256, kernel_size=(3,3), padding='same', activation='relu'))\n",
    "ms_model.add(BatchNormalization())\n",
    "ms_model.add(MaxPooling2D(pool_size=(2, 2), strides=(2,2)))\n",
    "ms_model.add(Dropout(0.25))\n",
    "\n",
    "ms_model.add(Conv2D(256, kernel_size=(3,3), padding='same', activation='relu'))\n",
    "ms_model.add(BatchNormalization())\n",
    "ms_model.add(Conv2D(256, kernel_size=(3,3), padding='same', activation='relu'))\n",
    "ms_model.add(BatchNormalization())\n",
    "ms_model.add(Conv2D(256, kernel_size=(3,3), padding='same', activation='relu'))\n",
    "ms_model.add(BatchNormalization())\n",
    "ms_model.add(MaxPooling2D(pool_size=(2, 2), strides=(2,2)))\n",
    "ms_model.add(Dropout(0.25))\n",
    "\n",
    "ms_model.add(Flatten())\n",
    "\n",
    "ms_model.add(Dense(1024, activation='relu'))\n",
    "# ms_model.add(Activation('relu'))\n",
    "ms_model.add(Dropout(0.5))\n",
    "\n",
    "ms_model.add(Dense(1024, activation='relu'))\n",
    "# ms_model.add(Activation('relu'))\n",
    "ms_model.add(Dropout(0.5))\n",
    "\n",
    "# ms_model.add(Flatten())\n",
    "\n",
    "\n",
    "ms_model.add(Dense(train_flow.num_classes, activation='softmax'))"
   ]
  },
  {
   "cell_type": "code",
   "execution_count": null,
   "metadata": {},
   "outputs": [],
   "source": [
    "ms_model.compile(loss='categorical_crossentropy', optimizer=Adam(lr=0.001, beta_1=0.9, beta_2=0.999, epsilon=1e-7), metrics=['accuracy'])"
   ]
  },
  {
   "cell_type": "code",
   "execution_count": null,
   "metadata": {},
   "outputs": [],
   "source": [
    "ms_model.fit(Aug_flow, \n",
    "              epochs=EPOCHS, \n",
    "#               batch_size=BATCH_SIZE,\n",
    "              steps_per_epoch=Aug_flow.n//Aug_flow.batch_size,\n",
    "              validation_data = val_flow,\n",
    "              validation_steps = val_flow.n//val_flow.batch_size,\n",
    "              callbacks=[ReduceLROnPlateau(), EarlyStopping(patience=3)],\n",
    "              shuffle=True)"
   ]
  },
  {
   "cell_type": "code",
   "execution_count": 50,
   "metadata": {},
   "outputs": [
    {
     "name": "stdout",
     "output_type": "stream",
     "text": [
      "Epoch 1/100\n",
      "448/448 [==============================] - 25s 55ms/step - loss: 0.9777 - accuracy: 0.6430 - val_loss: 1.0560 - val_accuracy: 0.6172\n",
      "Epoch 2/100\n",
      "448/448 [==============================] - 23s 52ms/step - loss: 0.8873 - accuracy: 0.6749 - val_loss: 1.0453 - val_accuracy: 0.6395\n",
      "Epoch 3/100\n",
      "448/448 [==============================] - 23s 51ms/step - loss: 0.8277 - accuracy: 0.6980 - val_loss: 1.0097 - val_accuracy: 0.6350\n",
      "Epoch 4/100\n",
      "448/448 [==============================] - 23s 51ms/step - loss: 0.7919 - accuracy: 0.7140 - val_loss: 1.2202 - val_accuracy: 0.5748\n",
      "Epoch 5/100\n",
      "448/448 [==============================] - 23s 52ms/step - loss: 0.7450 - accuracy: 0.7339 - val_loss: 1.1401 - val_accuracy: 0.6392\n",
      "Epoch 6/100\n",
      "448/448 [==============================] - 23s 52ms/step - loss: 0.6355 - accuracy: 0.7714 - val_loss: 1.1392 - val_accuracy: 0.6411\n"
     ]
    },
    {
     "data": {
      "text/plain": [
       "<tensorflow.python.keras.callbacks.History at 0x1e9acbe8220>"
      ]
     },
     "execution_count": 50,
     "metadata": {},
     "output_type": "execute_result"
    }
   ],
   "source": [
    "ms_model.fit(x_train, y_train, \n",
    "              epochs=EPOCHS, \n",
    "#               batch_size=BATCH_SIZE,\n",
    "              steps_per_epoch=len(x_train)//BATCH_SIZE,\n",
    "              validation_data = (x_val, y_val),\n",
    "              validation_steps = len(x_val)//BATCH_SIZE,\n",
    "              callbacks=[ReduceLROnPlateau(), EarlyStopping(patience=3)],\n",
    "              shuffle=True)"
   ]
  },
  {
   "cell_type": "code",
   "execution_count": 51,
   "metadata": {},
   "outputs": [
    {
     "name": "stdout",
     "output_type": "stream",
     "text": [
      "Epoch 1/30\n",
      "897/897 [==============================] - 26s 29ms/step - loss: 0.8407 - accuracy: 0.7065 - val_loss: 1.2384 - val_accuracy: 0.5868\n",
      "Epoch 2/30\n",
      "897/897 [==============================] - 26s 29ms/step - loss: 0.7160 - accuracy: 0.7519 - val_loss: 1.1398 - val_accuracy: 0.6278\n",
      "Epoch 3/30\n",
      "897/897 [==============================] - 26s 29ms/step - loss: 0.6356 - accuracy: 0.7792 - val_loss: 1.1126 - val_accuracy: 0.6353\n",
      "Epoch 4/30\n",
      "897/897 [==============================] - 26s 29ms/step - loss: 0.5846 - accuracy: 0.7996 - val_loss: 1.2628 - val_accuracy: 0.6292\n",
      "Epoch 5/30\n",
      "897/897 [==============================] - 26s 29ms/step - loss: 0.5293 - accuracy: 0.8209 - val_loss: 1.1936 - val_accuracy: 0.6454\n",
      "Epoch 6/30\n",
      "897/897 [==============================] - 26s 29ms/step - loss: 0.4863 - accuracy: 0.8357 - val_loss: 1.2177 - val_accuracy: 0.6501\n"
     ]
    },
    {
     "data": {
      "text/plain": [
       "<tensorflow.python.keras.callbacks.History at 0x1e9acbbaf70>"
      ]
     },
     "execution_count": 51,
     "metadata": {},
     "output_type": "execute_result"
    }
   ],
   "source": [
    "ms_model.fit(train_flow, \n",
    "              epochs=30, \n",
    "              steps_per_epoch=train_flow.n//train_flow.batch_size, \n",
    "              validation_data = valid_flow, \n",
    "              validation_steps = valid_flow.n//valid_flow.batch_size,\n",
    "             callbacks=[ReduceLROnPlateau(), EarlyStopping(patience=3)]\n",
    "             )"
   ]
  },
  {
   "cell_type": "code",
   "execution_count": 52,
   "metadata": {},
   "outputs": [],
   "source": [
    "ms_model_json = ms_model.to_json()\n",
    "with open(\"fer_ms.json\", \"w\") as json_file:\n",
    "    json_file.write(ms_model_json)\n",
    "ms_model.save_weights(\"fer_ms.h5\")"
   ]
  },
  {
   "cell_type": "code",
   "execution_count": null,
   "metadata": {},
   "outputs": [],
   "source": []
  }
 ],
 "metadata": {
  "kernelspec": {
   "display_name": "Python [conda env:tensorflow] *",
   "language": "python",
   "name": "conda-env-tensorflow-py"
  },
  "language_info": {
   "codemirror_mode": {
    "name": "ipython",
    "version": 3
   },
   "file_extension": ".py",
   "mimetype": "text/x-python",
   "name": "python",
   "nbconvert_exporter": "python",
   "pygments_lexer": "ipython3",
   "version": "3.7.8"
  }
 },
 "nbformat": 4,
 "nbformat_minor": 2
}
